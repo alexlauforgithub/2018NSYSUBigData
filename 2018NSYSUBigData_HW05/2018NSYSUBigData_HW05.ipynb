{
 "cells": [
  {
   "cell_type": "markdown",
   "metadata": {},
   "source": [
    "# 鐵達尼號Kaggle實戰\n",
    "參考自[XGBoost调参技巧（二）Titanic实战Top9%](https://zhuanlan.zhihu.com/p/28739256)"
   ]
  },
  {
   "cell_type": "code",
   "execution_count": 34,
   "metadata": {},
   "outputs": [],
   "source": [
    "# -*- coding: utf-8 -*- \n",
    "import pandas as pd\n",
    "from sklearn.model_selection import cross_val_score\n",
    "from sklearn.ensemble import GradientBoostingClassifier\n",
    "from sklearn.ensemble import GradientBoostingRegressor\n",
    "from sklearn import svm\n",
    "import matplotlib.pyplot as plt\n",
    "import seaborn as sns\n",
    "import numpy as np\n",
    "from xgboost import XGBClassifier\n",
    "from sklearn.svm import SVC\n",
    "from sklearn.metrics import accuracy_score\n",
    "from sklearn.model_selection import GridSearchCV\n",
    "from sklearn.model_selection import StratifiedKFold\n",
    "%matplotlib inline\n",
    "\n"
   ]
  },
  {
   "cell_type": "markdown",
   "metadata": {},
   "source": [
    "## 讀取資料"
   ]
  },
  {
   "cell_type": "code",
   "execution_count": 35,
   "metadata": {},
   "outputs": [],
   "source": [
    "train=pd.read_csv('train.csv',encoding='utf8')\n",
    "test=pd.read_csv('test.csv',encoding='utf8')\n",
    "submit = pd.read_csv('gender_submission.csv',encoding='utf8')"
   ]
  },
  {
   "cell_type": "markdown",
   "metadata": {},
   "source": [
    "## data_cleasing_one_hot\n",
    "這是使用one-hot encoding的方式來處理類別變數\n",
    "\n",
    "## data_cleasing\n",
    "這是單純把類別轉變為1、2、3的處理方式\n",
    "\n",
    "\n"
   ]
  },
  {
   "cell_type": "code",
   "execution_count": 36,
   "metadata": {},
   "outputs": [],
   "source": [
    "def data_cleasing_one_hot(titanic):\n",
    "    titanic[\"Age\"] = titanic[\"Age\"].fillna(titanic[\"Age\"].median())\n",
    "    # child\n",
    "    titanic[\"child\"] = titanic[\"Age\"].apply(lambda x: 1 if x < 15 else 0)\n",
    "\n",
    "    # sex\n",
    "    titanic[\"sex\"] = titanic[\"Sex\"].apply(lambda x: 1 if x == \"male\" else 0)\n",
    "\n",
    "    titanic[\"Embarked\"] = titanic[\"Embarked\"].fillna(\"S\")\n",
    "    #用眾數填入NA\n",
    "    \n",
    "    \n",
    "    # familysize\n",
    "    titanic[\"familysize\"] = titanic[\"SibSp\"] + titanic[\"Parch\"] + 1\n",
    "\n",
    "    titanic['Title1'] = titanic['Name'].str.split(\", \", expand=True)[1]\n",
    "    titanic['Title1'] = titanic['Title1'].str.split(\".\", expand=True)[0]\n",
    "    titanic['Title2'] = titanic['Title1'].replace(['Mlle','Mme','Ms','Dr','Major','Lady','the Countess','Jonkheer','Col','Rev','Capt','Sir','Don','Dona'],\n",
    "             ['Miss','Mrs','Miss','Mr','Mr','Mrs','Mrs','Mr','Mr','Mr','Mr','Mr','Mr','Mrs'])\n",
    "    \n",
    "    #將名字的謂稱提取出來\n",
    "    \n",
    "    \n",
    "    titanic[\"Fare\"] = titanic[\"Fare\"].fillna(titanic[\"Fare\"].median())\n",
    "    \n",
    "    one_hot=pd.get_dummies(titanic[['Embarked','Sex','Title2']])\n",
    "    #將類別變數做one-hot encoding\n",
    "    \n",
    "    \n",
    "    titanic=pd.concat([titanic,one_hot],axis=1)\n",
    "    \n",
    "    return titanic\n",
    "\n",
    "\n",
    "def data_cleasing(titanic):\n",
    "    titanic[\"Age\"] = titanic[\"Age\"].fillna(titanic[\"Age\"].median())\n",
    "    # child\n",
    "    titanic[\"child\"] = titanic[\"Age\"].apply(lambda x: 1 if x < 15 else 0)\n",
    "\n",
    "    # sex\n",
    "    titanic[\"sex\"] = titanic[\"Sex\"].apply(lambda x: 1 if x == \"male\" else 0)\n",
    "\n",
    "    titanic[\"Embarked\"] = titanic[\"Embarked\"].fillna(\"S\")\n",
    "    # embark\n",
    "    def getEmbark(Embarked):\n",
    "        if Embarked == \"S\":\n",
    "            return 1\n",
    "        elif Embarked == \"C\":\n",
    "            return 2\n",
    "        else:\n",
    "            return 3\n",
    "    titanic[\"embark\"] = titanic[\"Embarked\"].apply(getEmbark)\n",
    "\n",
    "    # familysize\n",
    "    titanic[\"fimalysize\"] = titanic[\"SibSp\"] + titanic[\"Parch\"] + 1\n",
    "\n",
    "\n",
    "\n",
    "    # name\n",
    "    def getName(name):\n",
    "        if \"Mr\" in str(name):\n",
    "            return 1\n",
    "        elif \"Mrs\" in str(name):\n",
    "            return 2\n",
    "        else:\n",
    "            return 0\n",
    "    titanic[\"name\"] = titanic[\"Name\"].apply(getName)\n",
    "    \n",
    "    titanic[\"Fare\"] = titanic[\"Fare\"].fillna(titanic[\"Fare\"].median())\n",
    "\n",
    "    return titanic\n",
    "\n",
    "train_data = data_cleasing(train)\n",
    "test_data  = data_cleasing(test)"
   ]
  },
  {
   "cell_type": "code",
   "execution_count": 37,
   "metadata": {},
   "outputs": [],
   "source": [
    "features = [\"Pclass\", \"sex\", \"child\", \"fimalysize\", \"Fare\", \"embark\"]"
   ]
  },
  {
   "cell_type": "code",
   "execution_count": 41,
   "metadata": {},
   "outputs": [],
   "source": [
    "train_set=train_data[features]"
   ]
  },
  {
   "cell_type": "code",
   "execution_count": 42,
   "metadata": {},
   "outputs": [
    {
     "name": "stderr",
     "output_type": "stream",
     "text": [
      "/opt/conda/lib/python3.6/site-packages/ipykernel_launcher.py:1: SettingWithCopyWarning: \n",
      "A value is trying to be set on a copy of a slice from a DataFrame.\n",
      "Try using .loc[row_indexer,col_indexer] = value instead\n",
      "\n",
      "See the caveats in the documentation: http://pandas.pydata.org/pandas-docs/stable/indexing.html#indexing-view-versus-copy\n",
      "  \"\"\"Entry point for launching an IPython kernel.\n",
      "/opt/conda/lib/python3.6/site-packages/ipykernel_launcher.py:2: SettingWithCopyWarning: \n",
      "A value is trying to be set on a copy of a slice from a DataFrame.\n",
      "Try using .loc[row_indexer,col_indexer] = value instead\n",
      "\n",
      "See the caveats in the documentation: http://pandas.pydata.org/pandas-docs/stable/indexing.html#indexing-view-versus-copy\n",
      "  \n",
      "/opt/conda/lib/python3.6/site-packages/ipykernel_launcher.py:3: SettingWithCopyWarning: \n",
      "A value is trying to be set on a copy of a slice from a DataFrame.\n",
      "Try using .loc[row_indexer,col_indexer] = value instead\n",
      "\n",
      "See the caveats in the documentation: http://pandas.pydata.org/pandas-docs/stable/indexing.html#indexing-view-versus-copy\n",
      "  This is separate from the ipykernel package so we can avoid doing imports until\n",
      "/opt/conda/lib/python3.6/site-packages/ipykernel_launcher.py:4: SettingWithCopyWarning: \n",
      "A value is trying to be set on a copy of a slice from a DataFrame.\n",
      "Try using .loc[row_indexer,col_indexer] = value instead\n",
      "\n",
      "See the caveats in the documentation: http://pandas.pydata.org/pandas-docs/stable/indexing.html#indexing-view-versus-copy\n",
      "  after removing the cwd from sys.path.\n"
     ]
    }
   ],
   "source": [
    "train_set['Pclass'] = train_set['Pclass'].astype('str')\n",
    "train_set['sex'] = train_set['sex'].astype('str')\n",
    "train_set['child'] = train_set['child'].astype('str')\n",
    "train_set['embark'] = train_set['embark'].astype('str')\n"
   ]
  },
  {
   "cell_type": "code",
   "execution_count": 43,
   "metadata": {},
   "outputs": [],
   "source": [
    "train_set = pd.get_dummies(train_set)"
   ]
  },
  {
   "cell_type": "code",
   "execution_count": 48,
   "metadata": {},
   "outputs": [
    {
     "name": "stdout",
     "output_type": "stream",
     "text": [
      "<class 'pandas.core.frame.DataFrame'>\n",
      "RangeIndex: 891 entries, 0 to 890\n",
      "Data columns (total 12 columns):\n",
      "fimalysize    891 non-null int64\n",
      "Fare          891 non-null float64\n",
      "Pclass_1      891 non-null uint8\n",
      "Pclass_2      891 non-null uint8\n",
      "Pclass_3      891 non-null uint8\n",
      "sex_0         891 non-null uint8\n",
      "sex_1         891 non-null uint8\n",
      "child_0       891 non-null uint8\n",
      "child_1       891 non-null uint8\n",
      "embark_1      891 non-null uint8\n",
      "embark_2      891 non-null uint8\n",
      "embark_3      891 non-null uint8\n",
      "dtypes: float64(1), int64(1), uint8(10)\n",
      "memory usage: 22.7 KB\n"
     ]
    }
   ],
   "source": [
    "train_set.info()"
   ]
  },
  {
   "cell_type": "code",
   "execution_count": 128,
   "metadata": {},
   "outputs": [],
   "source": [
    "from keras.models import Sequential\n",
    "from keras.layers import Dense, Dropout, Activation"
   ]
  },
  {
   "cell_type": "code",
   "execution_count": 131,
   "metadata": {},
   "outputs": [],
   "source": [
    "model = Sequential()\n",
    "model.add(Dense(units=10, input_dim=12, kernel_initializer='normal', activation='relu')) \n",
    "model.add(Dense(units=8, activation='relu')) \n",
    "model.add(Dense(units=10, activation='relu')) \n",
    "model.add(Dense(units=16, activation='relu')) \n",
    "model.add(Dense(units=1, activation='sigmoid'))\n",
    "model.compile(loss='binary_crossentropy', optimizer='adam', metrics=['accuracy']) "
   ]
  },
  {
   "cell_type": "code",
   "execution_count": 132,
   "metadata": {},
   "outputs": [
    {
     "name": "stdout",
     "output_type": "stream",
     "text": [
      "Train on 801 samples, validate on 90 samples\n",
      "Epoch 1/50\n",
      " - 1s - loss: 0.6895 - acc: 0.5680 - val_loss: 0.6698 - val_acc: 0.7556\n",
      "Epoch 2/50\n",
      " - 0s - loss: 0.6685 - acc: 0.6779 - val_loss: 0.6444 - val_acc: 0.7333\n",
      "Epoch 3/50\n",
      " - 0s - loss: 0.6560 - acc: 0.6792 - val_loss: 0.6270 - val_acc: 0.7444\n",
      "Epoch 4/50\n",
      " - 0s - loss: 0.6436 - acc: 0.6792 - val_loss: 0.6091 - val_acc: 0.7667\n",
      "Epoch 5/50\n",
      " - 0s - loss: 0.6204 - acc: 0.6991 - val_loss: 0.5849 - val_acc: 0.7444\n",
      "Epoch 6/50\n",
      " - 0s - loss: 0.5869 - acc: 0.7091 - val_loss: 0.5598 - val_acc: 0.7444\n",
      "Epoch 7/50\n",
      " - 0s - loss: 0.5616 - acc: 0.7328 - val_loss: 0.5317 - val_acc: 0.7889\n",
      "Epoch 8/50\n",
      " - 0s - loss: 0.5464 - acc: 0.7478 - val_loss: 0.4955 - val_acc: 0.8000\n",
      "Epoch 9/50\n",
      " - 0s - loss: 0.5198 - acc: 0.7790 - val_loss: 0.4725 - val_acc: 0.8000\n",
      "Epoch 10/50\n",
      " - 0s - loss: 0.5088 - acc: 0.7890 - val_loss: 0.4542 - val_acc: 0.7778\n",
      "Epoch 11/50\n",
      " - 0s - loss: 0.4960 - acc: 0.8002 - val_loss: 0.4584 - val_acc: 0.8111\n",
      "Epoch 12/50\n",
      " - 0s - loss: 0.4844 - acc: 0.8015 - val_loss: 0.4578 - val_acc: 0.8000\n",
      "Epoch 13/50\n",
      " - 0s - loss: 0.4801 - acc: 0.8052 - val_loss: 0.4310 - val_acc: 0.8000\n",
      "Epoch 14/50\n",
      " - 0s - loss: 0.4736 - acc: 0.7978 - val_loss: 0.4183 - val_acc: 0.8111\n",
      "Epoch 15/50\n",
      " - 0s - loss: 0.4696 - acc: 0.7928 - val_loss: 0.4434 - val_acc: 0.7778\n",
      "Epoch 16/50\n",
      " - 0s - loss: 0.4735 - acc: 0.8015 - val_loss: 0.4877 - val_acc: 0.7889\n",
      "Epoch 17/50\n",
      " - 0s - loss: 0.4967 - acc: 0.7803 - val_loss: 0.4426 - val_acc: 0.7889\n",
      "Epoch 18/50\n",
      " - 0s - loss: 0.4585 - acc: 0.8040 - val_loss: 0.4200 - val_acc: 0.8111\n",
      "Epoch 19/50\n",
      " - 0s - loss: 0.4557 - acc: 0.8027 - val_loss: 0.4124 - val_acc: 0.8000\n",
      "Epoch 20/50\n",
      " - 0s - loss: 0.4514 - acc: 0.8015 - val_loss: 0.4092 - val_acc: 0.8000\n",
      "Epoch 21/50\n",
      " - 0s - loss: 0.4522 - acc: 0.8015 - val_loss: 0.4153 - val_acc: 0.8000\n",
      "Epoch 22/50\n",
      " - 0s - loss: 0.4540 - acc: 0.8002 - val_loss: 0.4139 - val_acc: 0.7889\n",
      "Epoch 23/50\n",
      " - 0s - loss: 0.4534 - acc: 0.8015 - val_loss: 0.4366 - val_acc: 0.7667\n",
      "Epoch 24/50\n",
      " - 0s - loss: 0.4501 - acc: 0.8140 - val_loss: 0.4322 - val_acc: 0.7778\n",
      "Epoch 25/50\n",
      " - 0s - loss: 0.4604 - acc: 0.8027 - val_loss: 0.4001 - val_acc: 0.8222\n",
      "Epoch 26/50\n",
      " - 0s - loss: 0.4645 - acc: 0.7928 - val_loss: 0.4022 - val_acc: 0.8111\n",
      "Epoch 27/50\n",
      " - 0s - loss: 0.4563 - acc: 0.7978 - val_loss: 0.3950 - val_acc: 0.8111\n",
      "Epoch 28/50\n",
      " - 0s - loss: 0.4495 - acc: 0.8065 - val_loss: 0.3990 - val_acc: 0.8111\n",
      "Epoch 29/50\n",
      " - 0s - loss: 0.4574 - acc: 0.8027 - val_loss: 0.3934 - val_acc: 0.8111\n",
      "Epoch 30/50\n",
      " - 0s - loss: 0.4578 - acc: 0.8027 - val_loss: 0.3910 - val_acc: 0.8222\n",
      "Epoch 31/50\n",
      " - 0s - loss: 0.4399 - acc: 0.8102 - val_loss: 0.4124 - val_acc: 0.7889\n",
      "Epoch 32/50\n",
      " - 0s - loss: 0.4423 - acc: 0.8077 - val_loss: 0.4056 - val_acc: 0.8000\n",
      "Epoch 33/50\n",
      " - 0s - loss: 0.4386 - acc: 0.8040 - val_loss: 0.4145 - val_acc: 0.7889\n",
      "Epoch 34/50\n",
      " - 0s - loss: 0.4401 - acc: 0.8065 - val_loss: 0.4010 - val_acc: 0.8111\n",
      "Epoch 35/50\n",
      " - 0s - loss: 0.4415 - acc: 0.8077 - val_loss: 0.3918 - val_acc: 0.8111\n",
      "Epoch 36/50\n",
      " - 0s - loss: 0.4423 - acc: 0.7990 - val_loss: 0.3905 - val_acc: 0.8111\n",
      "Epoch 37/50\n",
      " - 0s - loss: 0.4354 - acc: 0.8127 - val_loss: 0.3848 - val_acc: 0.8333\n",
      "Epoch 38/50\n",
      " - 0s - loss: 0.4852 - acc: 0.7853 - val_loss: 0.3964 - val_acc: 0.8111\n",
      "Epoch 39/50\n",
      " - 0s - loss: 0.4398 - acc: 0.8140 - val_loss: 0.3951 - val_acc: 0.8111\n",
      "Epoch 40/50\n",
      " - 0s - loss: 0.4411 - acc: 0.8040 - val_loss: 0.3977 - val_acc: 0.8111\n",
      "Epoch 41/50\n",
      " - 0s - loss: 0.4354 - acc: 0.8115 - val_loss: 0.4130 - val_acc: 0.7889\n",
      "Epoch 42/50\n",
      " - 0s - loss: 0.4382 - acc: 0.8077 - val_loss: 0.4095 - val_acc: 0.8111\n",
      "Epoch 43/50\n",
      " - 0s - loss: 0.4347 - acc: 0.8015 - val_loss: 0.4028 - val_acc: 0.8111\n",
      "Epoch 44/50\n",
      " - 0s - loss: 0.4374 - acc: 0.8090 - val_loss: 0.4076 - val_acc: 0.8000\n",
      "Epoch 45/50\n",
      " - 0s - loss: 0.4353 - acc: 0.8127 - val_loss: 0.4047 - val_acc: 0.8111\n",
      "Epoch 46/50\n",
      " - 0s - loss: 0.4324 - acc: 0.8152 - val_loss: 0.4135 - val_acc: 0.8000\n",
      "Epoch 47/50\n",
      " - 0s - loss: 0.4669 - acc: 0.7903 - val_loss: 0.3876 - val_acc: 0.8000\n",
      "Epoch 48/50\n",
      " - 0s - loss: 0.4399 - acc: 0.8002 - val_loss: 0.3834 - val_acc: 0.8222\n",
      "Epoch 49/50\n",
      " - 0s - loss: 0.4468 - acc: 0.8090 - val_loss: 0.3926 - val_acc: 0.8111\n",
      "Epoch 50/50\n",
      " - 0s - loss: 0.4402 - acc: 0.8090 - val_loss: 0.3924 - val_acc: 0.8111\n"
     ]
    }
   ],
   "source": [
    "train_history = model.fit(x=train_set, y=train_data['Survived'], validation_split=0.1, epochs=50, batch_size=40, verbose=2)  "
   ]
  },
  {
   "cell_type": "code",
   "execution_count": 134,
   "metadata": {},
   "outputs": [
    {
     "name": "stderr",
     "output_type": "stream",
     "text": [
      "/opt/conda/lib/python3.6/site-packages/ipykernel_launcher.py:2: SettingWithCopyWarning: \n",
      "A value is trying to be set on a copy of a slice from a DataFrame.\n",
      "Try using .loc[row_indexer,col_indexer] = value instead\n",
      "\n",
      "See the caveats in the documentation: http://pandas.pydata.org/pandas-docs/stable/indexing.html#indexing-view-versus-copy\n",
      "  \n",
      "/opt/conda/lib/python3.6/site-packages/ipykernel_launcher.py:3: SettingWithCopyWarning: \n",
      "A value is trying to be set on a copy of a slice from a DataFrame.\n",
      "Try using .loc[row_indexer,col_indexer] = value instead\n",
      "\n",
      "See the caveats in the documentation: http://pandas.pydata.org/pandas-docs/stable/indexing.html#indexing-view-versus-copy\n",
      "  This is separate from the ipykernel package so we can avoid doing imports until\n",
      "/opt/conda/lib/python3.6/site-packages/ipykernel_launcher.py:4: SettingWithCopyWarning: \n",
      "A value is trying to be set on a copy of a slice from a DataFrame.\n",
      "Try using .loc[row_indexer,col_indexer] = value instead\n",
      "\n",
      "See the caveats in the documentation: http://pandas.pydata.org/pandas-docs/stable/indexing.html#indexing-view-versus-copy\n",
      "  after removing the cwd from sys.path.\n",
      "/opt/conda/lib/python3.6/site-packages/ipykernel_launcher.py:5: SettingWithCopyWarning: \n",
      "A value is trying to be set on a copy of a slice from a DataFrame.\n",
      "Try using .loc[row_indexer,col_indexer] = value instead\n",
      "\n",
      "See the caveats in the documentation: http://pandas.pydata.org/pandas-docs/stable/indexing.html#indexing-view-versus-copy\n",
      "  \"\"\"\n"
     ]
    }
   ],
   "source": [
    "test_set=test_data[features]\n",
    "test_set['Pclass'] = test_set['Pclass'].astype('str')\n",
    "test_set['sex'] = test_set['sex'].astype('str')\n",
    "test_set['child'] = test_set['child'].astype('str')\n",
    "test_set['embark'] = test_set['embark'].astype('str')\n",
    "test_set=pd.get_dummies(test_set)"
   ]
  },
  {
   "cell_type": "code",
   "execution_count": 136,
   "metadata": {},
   "outputs": [],
   "source": [
    "y_pred=model.predict(test_set)"
   ]
  },
  {
   "cell_type": "code",
   "execution_count": 137,
   "metadata": {},
   "outputs": [],
   "source": [
    "y_pred = np.where(y_pred>0.6,1,0)"
   ]
  },
  {
   "cell_type": "code",
   "execution_count": 138,
   "metadata": {},
   "outputs": [],
   "source": [
    "test_data['Survived'] = y_pred"
   ]
  },
  {
   "cell_type": "markdown",
   "metadata": {},
   "source": [
    "## 做成csv"
   ]
  },
  {
   "cell_type": "code",
   "execution_count": 139,
   "metadata": {},
   "outputs": [
    {
     "name": "stderr",
     "output_type": "stream",
     "text": [
      "/opt/conda/lib/python3.6/site-packages/ipykernel_launcher.py:2: SettingWithCopyWarning: \n",
      "A value is trying to be set on a copy of a slice from a DataFrame.\n",
      "Try using .loc[row_indexer,col_indexer] = value instead\n",
      "\n",
      "See the caveats in the documentation: http://pandas.pydata.org/pandas-docs/stable/indexing.html#indexing-view-versus-copy\n",
      "  \n"
     ]
    }
   ],
   "source": [
    "submit=test_data[['PassengerId','Survived']]\n",
    "submit['Survived'] = submit['Survived'].astype(int)\n",
    "submit.to_csv('submit.csv', index= False)"
   ]
  },
  {
   "cell_type": "code",
   "execution_count": null,
   "metadata": {},
   "outputs": [],
   "source": []
  }
 ],
 "metadata": {
  "kernelspec": {
   "display_name": "Python 3",
   "language": "python",
   "name": "python3"
  },
  "language_info": {
   "codemirror_mode": {
    "name": "ipython",
    "version": 3
   },
   "file_extension": ".py",
   "mimetype": "text/x-python",
   "name": "python",
   "nbconvert_exporter": "python",
   "pygments_lexer": "ipython3",
   "version": "3.6.3"
  }
 },
 "nbformat": 4,
 "nbformat_minor": 2
}
