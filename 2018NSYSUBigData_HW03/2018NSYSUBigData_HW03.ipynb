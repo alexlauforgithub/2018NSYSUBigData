{
 "cells": [
  {
   "cell_type": "markdown",
   "metadata": {},
   "source": [
    "# 鐵達尼號Kaggle實戰\n",
    "參考自[XGBoost调参技巧（二）Titanic实战Top9%](https://zhuanlan.zhihu.com/p/28739256)"
   ]
  },
  {
   "cell_type": "code",
   "execution_count": 1,
   "metadata": {},
   "outputs": [],
   "source": [
    "# -*- coding: utf-8 -*- \n",
    "import pandas as pd\n",
    "from sklearn.model_selection import cross_val_score\n",
    "from sklearn.ensemble import GradientBoostingClassifier\n",
    "from sklearn.ensemble import GradientBoostingRegressor\n",
    "from sklearn import svm\n",
    "import matplotlib.pyplot as plt\n",
    "import seaborn as sns\n",
    "import numpy as np\n",
    "from xgboost import XGBClassifier\n",
    "from sklearn.svm import SVC\n",
    "from sklearn.metrics import accuracy_score\n",
    "from sklearn.model_selection import GridSearchCV\n",
    "from sklearn.model_selection import StratifiedKFold\n",
    "%matplotlib inline\n",
    "\n"
   ]
  },
  {
   "cell_type": "markdown",
   "metadata": {},
   "source": [
    "## 讀取資料"
   ]
  },
  {
   "cell_type": "code",
   "execution_count": 2,
   "metadata": {},
   "outputs": [],
   "source": [
    "train=pd.read_csv('train.csv',encoding='utf8')\n",
    "test=pd.read_csv('test.csv',encoding='utf8')\n",
    "submit = pd.read_csv('gender_submission.csv',encoding='utf8')"
   ]
  },
  {
   "cell_type": "markdown",
   "metadata": {},
   "source": [
    "## data_cleasing_one_hot\n",
    "這是使用one-hot encoding的方式來處理類別變數\n",
    "\n",
    "## data_cleasing\n",
    "這是單純把類別轉變為1、2、3的處理方式\n",
    "\n",
    "\n"
   ]
  },
  {
   "cell_type": "code",
   "execution_count": 3,
   "metadata": {},
   "outputs": [],
   "source": [
    "def data_cleasing_one_hot(titanic):\n",
    "    titanic[\"Age\"] = titanic[\"Age\"].fillna(titanic[\"Age\"].median())\n",
    "    # child\n",
    "    titanic[\"child\"] = titanic[\"Age\"].apply(lambda x: 1 if x < 15 else 0)\n",
    "\n",
    "    # sex\n",
    "    titanic[\"sex\"] = titanic[\"Sex\"].apply(lambda x: 1 if x == \"male\" else 0)\n",
    "\n",
    "    titanic[\"Embarked\"] = titanic[\"Embarked\"].fillna(\"S\")\n",
    "    #用眾數填入NA\n",
    "    \n",
    "    \n",
    "    # familysize\n",
    "    titanic[\"familysize\"] = titanic[\"SibSp\"] + titanic[\"Parch\"] + 1\n",
    "\n",
    "    titanic['Title1'] = titanic['Name'].str.split(\", \", expand=True)[1]\n",
    "    titanic['Title1'] = titanic['Title1'].str.split(\".\", expand=True)[0]\n",
    "    titanic['Title2'] = titanic['Title1'].replace(['Mlle','Mme','Ms','Dr','Major','Lady','the Countess','Jonkheer','Col','Rev','Capt','Sir','Don','Dona'],\n",
    "             ['Miss','Mrs','Miss','Mr','Mr','Mrs','Mrs','Mr','Mr','Mr','Mr','Mr','Mr','Mrs'])\n",
    "    \n",
    "    #將名字的謂稱提取出來\n",
    "    \n",
    "    \n",
    "    titanic[\"Fare\"] = titanic[\"Fare\"].fillna(titanic[\"Fare\"].median())\n",
    "    \n",
    "    one_hot=pd.get_dummies(titanic[['Embarked','Sex','Title2']])\n",
    "    #將類別變數做one-hot encoding\n",
    "    \n",
    "    \n",
    "    titanic=pd.concat([titanic,one_hot],axis=1)\n",
    "    \n",
    "    return titanic\n",
    "\n",
    "\n",
    "def data_cleasing(titanic):\n",
    "    titanic[\"Age\"] = titanic[\"Age\"].fillna(titanic[\"Age\"].median())\n",
    "    # child\n",
    "    titanic[\"child\"] = titanic[\"Age\"].apply(lambda x: 1 if x < 15 else 0)\n",
    "\n",
    "    # sex\n",
    "    titanic[\"sex\"] = titanic[\"Sex\"].apply(lambda x: 1 if x == \"male\" else 0)\n",
    "\n",
    "    titanic[\"Embarked\"] = titanic[\"Embarked\"].fillna(\"S\")\n",
    "    # embark\n",
    "    def getEmbark(Embarked):\n",
    "        if Embarked == \"S\":\n",
    "            return 1\n",
    "        elif Embarked == \"C\":\n",
    "            return 2\n",
    "        else:\n",
    "            return 3\n",
    "    titanic[\"embark\"] = titanic[\"Embarked\"].apply(getEmbark)\n",
    "\n",
    "    # familysize\n",
    "    titanic[\"fimalysize\"] = titanic[\"SibSp\"] + titanic[\"Parch\"] + 1\n",
    "\n",
    "\n",
    "\n",
    "    # name\n",
    "    def getName(name):\n",
    "        if \"Mr\" in str(name):\n",
    "            return 1\n",
    "        elif \"Mrs\" in str(name):\n",
    "            return 2\n",
    "        else:\n",
    "            return 0\n",
    "    titanic[\"name\"] = titanic[\"Name\"].apply(getName)\n",
    "    \n",
    "    titanic[\"Fare\"] = titanic[\"Fare\"].fillna(titanic[\"Fare\"].median())\n",
    "\n",
    "    return titanic\n",
    "\n",
    "train_data = data_cleasing(train)\n",
    "test_data  = data_cleasing(test)"
   ]
  },
  {
   "cell_type": "code",
   "execution_count": 4,
   "metadata": {},
   "outputs": [],
   "source": [
    "features = [\"Pclass\", \"sex\", \"child\", \"fimalysize\", \"Fare\", \"embark\"]"
   ]
  },
  {
   "cell_type": "markdown",
   "metadata": {},
   "source": [
    "## 建立模型，並在cross validation找出好參數\n",
    "\n",
    "- 樹的棵樹\n",
    "- 每棵樹最大深度\n"
   ]
  },
  {
   "cell_type": "code",
   "execution_count": 5,
   "metadata": {},
   "outputs": [
    {
     "data": {
      "text/plain": [
       "({'max_depth': 6, 'n_estimators': 32}, 0.83164983164983164)"
      ]
     },
     "execution_count": 5,
     "metadata": {},
     "output_type": "execute_result"
    }
   ],
   "source": [
    "clf =XGBClassifier(learning_rate=0.1, max_depth=2, \n",
    "silent=True, objective='binary:logistic')\n",
    "param_test = {\n",
    "    'n_estimators': range(30, 50, 2),\n",
    "    'max_depth': range(2, 7, 1)\n",
    "}\n",
    "grid_search = GridSearchCV(estimator = clf, param_grid = param_test, \n",
    "scoring='accuracy', cv=5)\n",
    "grid_search.fit(train_data[features], train_data[\"Survived\"])\n",
    "grid_search.best_params_, grid_search.best_score_"
   ]
  },
  {
   "cell_type": "markdown",
   "metadata": {},
   "source": [
    "## 將最好的參數帶入"
   ]
  },
  {
   "cell_type": "code",
   "execution_count": 6,
   "metadata": {},
   "outputs": [
    {
     "data": {
      "text/plain": [
       "XGBClassifier(base_score=0.5, booster='gbtree', colsample_bylevel=1,\n",
       "       colsample_bytree=1, gamma=0, learning_rate=0.1, max_delta_step=0,\n",
       "       max_depth=6, min_child_weight=1, missing=None, n_estimators=32,\n",
       "       n_jobs=1, nthread=None, objective='binary:logistic', random_state=0,\n",
       "       reg_alpha=0, reg_lambda=1, scale_pos_weight=1, seed=None,\n",
       "       silent=True, subsample=1)"
      ]
     },
     "execution_count": 6,
     "metadata": {},
     "output_type": "execute_result"
    }
   ],
   "source": [
    "model=XGBClassifier(learning_rate=0.1, max_depth=6,n_estimators=32,\n",
    "silent=True, objective='binary:logistic')\n",
    "model.fit(train_data[features], train_data[\"Survived\"])"
   ]
  },
  {
   "cell_type": "markdown",
   "metadata": {},
   "source": [
    "## 預測test data"
   ]
  },
  {
   "cell_type": "code",
   "execution_count": 80,
   "metadata": {},
   "outputs": [],
   "source": [
    "y_pred=model.predict(test_data[features])"
   ]
  },
  {
   "cell_type": "code",
   "execution_count": 81,
   "metadata": {},
   "outputs": [],
   "source": [
    "test_data['Survived']=y_pred"
   ]
  },
  {
   "cell_type": "markdown",
   "metadata": {},
   "source": [
    "## 做成csv"
   ]
  },
  {
   "cell_type": "code",
   "execution_count": 82,
   "metadata": {},
   "outputs": [
    {
     "name": "stderr",
     "output_type": "stream",
     "text": [
      "/opt/conda/lib/python3.6/site-packages/ipykernel_launcher.py:2: SettingWithCopyWarning: \n",
      "A value is trying to be set on a copy of a slice from a DataFrame.\n",
      "Try using .loc[row_indexer,col_indexer] = value instead\n",
      "\n",
      "See the caveats in the documentation: http://pandas.pydata.org/pandas-docs/stable/indexing.html#indexing-view-versus-copy\n",
      "  \n"
     ]
    }
   ],
   "source": [
    "submit=test_data[['PassengerId','Survived']]\n",
    "submit['Survived'] = submit['Survived'].astype(int)\n",
    "submit.to_csv('submit.csv', index= False)"
   ]
  }
 ],
 "metadata": {
  "kernelspec": {
   "display_name": "Python 3",
   "language": "python",
   "name": "python3"
  },
  "language_info": {
   "codemirror_mode": {
    "name": "ipython",
    "version": 3
   },
   "file_extension": ".py",
   "mimetype": "text/x-python",
   "name": "python",
   "nbconvert_exporter": "python",
   "pygments_lexer": "ipython3",
   "version": "3.6.4"
  }
 },
 "nbformat": 4,
 "nbformat_minor": 2
}
