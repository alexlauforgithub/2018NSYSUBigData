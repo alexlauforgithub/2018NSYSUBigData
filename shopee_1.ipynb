{
  "nbformat": 4,
  "nbformat_minor": 0,
  "metadata": {
    "colab": {
      "name": "shopee_1.ipynb",
      "provenance": [],
      "collapsed_sections": [],
      "authorship_tag": "ABX9TyPLw7jpknmMVyxfB6dwykOg",
      "include_colab_link": true
    },
    "kernelspec": {
      "display_name": "Python 3",
      "name": "python3"
    }
  },
  "cells": [
    {
      "cell_type": "markdown",
      "metadata": {
        "id": "view-in-github",
        "colab_type": "text"
      },
      "source": [
        "<a href=\"https://colab.research.google.com/github/alexlauforgithub/2018NSYSUBigData/blob/master/shopee_1.ipynb\" target=\"_parent\"><img src=\"https://colab.research.google.com/assets/colab-badge.svg\" alt=\"Open In Colab\"/></a>"
      ]
    },
    {
      "cell_type": "code",
      "metadata": {
        "id": "dx9Gbbg8Ift3"
      },
      "source": [
        "def import_data_from_drive(id):\r\n",
        "  !wget --save-cookies cookies.txt 'https://docaas.google.com/uc?export=download&id='{id} -O- \\\r\n",
        "  | sed -rn 's/.*confirm=([0-9A-Za-z_]+).*/\\1/p' > confirm.txt && wget --content-disposition --load-cookies cookies.txt 'https://docs.google.com/uc?export=download&id='{id}'&confirm='$(<confirm.txt)"
      ],
      "execution_count": null,
      "outputs": []
    },
    {
      "cell_type": "code",
      "metadata": {
        "id": "YWE28YzSLuCd"
      },
      "source": [
        "import_data_from_drive('1fq-Z8DBKC8cQ8Q08NL0yHdOpNiYUA2m0')"
      ],
      "execution_count": null,
      "outputs": []
    },
    {
      "cell_type": "code",
      "metadata": {
        "id": "oAY3rIQrLvGk"
      },
      "source": [
        "!unzip /content/\"Dataset for Multi-Channel Contacts Problem (1)\".zip"
      ],
      "execution_count": null,
      "outputs": []
    },
    {
      "cell_type": "code",
      "metadata": {
        "id": "xph18ZDzMdtO"
      },
      "source": [
        "import numpy as np # linear algebra\r\n",
        "import pandas as pd # data processing, CSV file I/O (e.g. pd.read_csv)\r\n",
        "from tqdm import tqdm"
      ],
      "execution_count": 125,
      "outputs": []
    },
    {
      "cell_type": "code",
      "metadata": {
        "id": "XeBKZTLML2uD"
      },
      "source": [
        "df = pd.read_json('contacts.json')"
      ],
      "execution_count": 126,
      "outputs": []
    },
    {
      "cell_type": "code",
      "metadata": {
        "colab": {
          "base_uri": "https://localhost:8080/",
          "height": 202
        },
        "id": "asfhT-i11ROh",
        "outputId": "44fb267f-b0f5-4b39-89f4-7804872d87f4"
      },
      "source": [
        "npdata = df.values\r\n",
        "df.head()"
      ],
      "execution_count": 127,
      "outputs": [
        {
          "output_type": "execute_result",
          "data": {
            "text/html": [
              "<div>\n",
              "<style scoped>\n",
              "    .dataframe tbody tr th:only-of-type {\n",
              "        vertical-align: middle;\n",
              "    }\n",
              "\n",
              "    .dataframe tbody tr th {\n",
              "        vertical-align: top;\n",
              "    }\n",
              "\n",
              "    .dataframe thead th {\n",
              "        text-align: right;\n",
              "    }\n",
              "</style>\n",
              "<table border=\"1\" class=\"dataframe\">\n",
              "  <thead>\n",
              "    <tr style=\"text-align: right;\">\n",
              "      <th></th>\n",
              "      <th>Id</th>\n",
              "      <th>Email</th>\n",
              "      <th>Phone</th>\n",
              "      <th>Contacts</th>\n",
              "      <th>OrderId</th>\n",
              "    </tr>\n",
              "  </thead>\n",
              "  <tbody>\n",
              "    <tr>\n",
              "      <th>0</th>\n",
              "      <td>0</td>\n",
              "      <td>gkzAbIy@qq.com</td>\n",
              "      <td></td>\n",
              "      <td>1</td>\n",
              "      <td></td>\n",
              "    </tr>\n",
              "    <tr>\n",
              "      <th>1</th>\n",
              "      <td>1</td>\n",
              "      <td></td>\n",
              "      <td>329442681752</td>\n",
              "      <td>4</td>\n",
              "      <td>vDDJJcxfLtSfkooPhbYnJdxov</td>\n",
              "    </tr>\n",
              "    <tr>\n",
              "      <th>2</th>\n",
              "      <td>2</td>\n",
              "      <td></td>\n",
              "      <td>9125983679</td>\n",
              "      <td>0</td>\n",
              "      <td></td>\n",
              "    </tr>\n",
              "    <tr>\n",
              "      <th>3</th>\n",
              "      <td>3</td>\n",
              "      <td>mdllpYmE@gmail.com</td>\n",
              "      <td></td>\n",
              "      <td>0</td>\n",
              "      <td>bHquEnCbbsGLqllwryxPsNOxa</td>\n",
              "    </tr>\n",
              "    <tr>\n",
              "      <th>4</th>\n",
              "      <td>4</td>\n",
              "      <td></td>\n",
              "      <td>300364407</td>\n",
              "      <td>2</td>\n",
              "      <td></td>\n",
              "    </tr>\n",
              "  </tbody>\n",
              "</table>\n",
              "</div>"
            ],
            "text/plain": [
              "   Id               Email         Phone  Contacts                    OrderId\n",
              "0   0      gkzAbIy@qq.com                       1                           \n",
              "1   1                      329442681752         4  vDDJJcxfLtSfkooPhbYnJdxov\n",
              "2   2                        9125983679         0                           \n",
              "3   3  mdllpYmE@gmail.com                       0  bHquEnCbbsGLqllwryxPsNOxa\n",
              "4   4                         300364407         2                           "
            ]
          },
          "metadata": {
            "tags": []
          },
          "execution_count": 127
        }
      ]
    },
    {
      "cell_type": "code",
      "metadata": {
        "id": "6I54RSAN1Uvg"
      },
      "source": [
        "memory = {}\r\n",
        "connections = {}"
      ],
      "execution_count": null,
      "outputs": []
    },
    {
      "cell_type": "code",
      "metadata": {
        "id": "mx8Vct6L1Y5j"
      },
      "source": [
        "def add_to_memory(user_id, value):\r\n",
        "  if value != \"\":\r\n",
        "    if value in memory:\r\n",
        "        memory[value].add(user_id)\r\n",
        "        return\r\n",
        "    memory[value] = {user_id}"
      ],
      "execution_count": 128,
      "outputs": []
    },
    {
      "cell_type": "code",
      "metadata": {
        "colab": {
          "base_uri": "https://localhost:8080/"
        },
        "id": "6UP7KQFQ1amW",
        "outputId": "04abc423-2a2f-42bc-ea67-39a1cac8a959"
      },
      "source": [
        "for row in tqdm(npdata):\r\n",
        "    user_id = row[0]\r\n",
        "    add_to_memory(user_id, row[4])\r\n",
        "    add_to_memory(user_id, row[1])\r\n",
        "    add_to_memory(user_id, row[2])"
      ],
      "execution_count": 129,
      "outputs": [
        {
          "output_type": "stream",
          "text": [
            "100%|██████████| 500000/500000 [00:01<00:00, 326780.69it/s]\n"
          ],
          "name": "stderr"
        }
      ]
    },
    {
      "cell_type": "code",
      "metadata": {
        "id": "bhu_F68GNC_X"
      },
      "source": [
        "dummy_list = [{13,9,1111,555}, {1111,77777}, {77777,5678}, {5678,13}]"
      ],
      "execution_count": 131,
      "outputs": []
    },
    {
      "cell_type": "code",
      "metadata": {
        "id": "F1k78NMANBxZ"
      },
      "source": [
        "connections={}"
      ],
      "execution_count": 150,
      "outputs": []
    },
    {
      "cell_type": "code",
      "metadata": {
        "id": "F9cDrPneIFSL",
        "colab": {
          "base_uri": "https://localhost:8080/"
        },
        "outputId": "e0fd9ed9-9f01-49a0-9163-64f7ca56fd52"
      },
      "source": [
        "\r\n",
        "for i in range(0,4):\r\n",
        "  ids = dummy_list[i]\r\n",
        "  current_connection = set(ids)\r\n",
        "      \r\n",
        "  print('--------------iter{}---------------'.format(i))\r\n",
        "  ## 每一個id都去查找\r\n",
        "  for uid in ids:\r\n",
        "    print('now id set:', ids)\r\n",
        "      ## 假設某id在總dict已存在key值, 則更新進來集合暫存\r\n",
        "    if uid in connections:   \r\n",
        "        current_connection.update(connections[uid])\r\n",
        "    print('current_conn',current_connection)\r\n",
        "\r\n",
        "  ## 對於每個id把目前完整集合都更新進去\r\n",
        "  for uid in current_connection:\r\n",
        "      connections[uid] = current_connection\r\n",
        "  print('total conn',connections)\r\n"
      ],
      "execution_count": 151,
      "outputs": [
        {
          "output_type": "stream",
          "text": [
            "--------------iter0---------------\n",
            "now id set: {9, 555, 13, 1111}\n",
            "current_conn {9, 555, 13, 1111}\n",
            "now id set: {9, 555, 13, 1111}\n",
            "current_conn {9, 555, 13, 1111}\n",
            "now id set: {9, 555, 13, 1111}\n",
            "current_conn {9, 555, 13, 1111}\n",
            "now id set: {9, 555, 13, 1111}\n",
            "current_conn {9, 555, 13, 1111}\n",
            "total conn {9: {9, 555, 13, 1111}, 555: {9, 555, 13, 1111}, 13: {9, 555, 13, 1111}, 1111: {9, 555, 13, 1111}}\n",
            "--------------iter1---------------\n",
            "now id set: {77777, 1111}\n",
            "current_conn {77777, 1111}\n",
            "now id set: {77777, 1111}\n",
            "current_conn {77777, 1111, 9, 555, 13}\n",
            "total conn {9: {77777, 1111, 9, 555, 13}, 555: {77777, 1111, 9, 555, 13}, 13: {77777, 1111, 9, 555, 13}, 1111: {77777, 1111, 9, 555, 13}, 77777: {77777, 1111, 9, 555, 13}}\n",
            "--------------iter2---------------\n",
            "now id set: {77777, 5678}\n",
            "current_conn {77777, 1111, 9, 555, 13, 5678}\n",
            "now id set: {77777, 5678}\n",
            "current_conn {77777, 1111, 9, 555, 13, 5678}\n",
            "total conn {9: {77777, 1111, 9, 555, 13, 5678}, 555: {77777, 1111, 9, 555, 13, 5678}, 13: {77777, 1111, 9, 555, 13, 5678}, 1111: {77777, 1111, 9, 555, 13, 5678}, 77777: {77777, 1111, 9, 555, 13, 5678}, 5678: {77777, 1111, 9, 555, 13, 5678}}\n",
            "--------------iter3---------------\n",
            "now id set: {13, 5678}\n",
            "current_conn {9, 555, 13, 5678, 77777, 1111}\n",
            "now id set: {13, 5678}\n",
            "current_conn {9, 555, 13, 5678, 77777, 1111}\n",
            "total conn {9: {9, 555, 13, 5678, 77777, 1111}, 555: {9, 555, 13, 5678, 77777, 1111}, 13: {9, 555, 13, 5678, 77777, 1111}, 1111: {9, 555, 13, 5678, 77777, 1111}, 77777: {9, 555, 13, 5678, 77777, 1111}, 5678: {9, 555, 13, 5678, 77777, 1111}}\n"
          ],
          "name": "stdout"
        }
      ]
    },
    {
      "cell_type": "code",
      "metadata": {
        "id": "gDmkkTiOL_vY"
      },
      "source": [
        "  "
      ],
      "execution_count": 130,
      "outputs": []
    }
  ]
}